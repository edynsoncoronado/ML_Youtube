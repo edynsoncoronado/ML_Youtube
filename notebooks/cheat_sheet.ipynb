{
 "cells": [
  {
   "cell_type": "markdown",
   "id": "5d5d9644",
   "metadata": {},
   "source": [
    "# Librerías de machine learning más usadas:\n",
    "\n",
    "[librerías más usadas](../docs/01_librerías_ml.md)"
   ]
  },
  {
   "cell_type": "markdown",
   "id": "f272708f",
   "metadata": {},
   "source": [
    "# 1) Preprocesamiento y manipulación de datos"
   ]
  },
  {
   "cell_type": "markdown",
   "id": "1bdffacd",
   "metadata": {},
   "source": [
    "## NumPy"
   ]
  },
  {
   "cell_type": "markdown",
   "id": "91541fab",
   "metadata": {},
   "source": [
    "### 1. Creación de Arrays"
   ]
  },
  {
   "cell_type": "code",
   "execution_count": 1,
   "id": "cf078f56",
   "metadata": {},
   "outputs": [],
   "source": [
    "import numpy as np"
   ]
  },
  {
   "cell_type": "code",
   "execution_count": 3,
   "id": "834b553b",
   "metadata": {},
   "outputs": [
    {
     "data": {
      "text/plain": [
       "array([1, 2, 3])"
      ]
     },
     "execution_count": 3,
     "metadata": {},
     "output_type": "execute_result"
    }
   ],
   "source": [
    "# Array desde lista\n",
    "np.array([1, 2, 3])"
   ]
  },
  {
   "cell_type": "code",
   "execution_count": 4,
   "id": "7b0ad4a6",
   "metadata": {},
   "outputs": [
    {
     "data": {
      "text/plain": [
       "array([[1, 2, 3],\n",
       "       [4, 5, 6]])"
      ]
     },
     "execution_count": 4,
     "metadata": {},
     "output_type": "execute_result"
    }
   ],
   "source": [
    "# Matriz 2D\n",
    "np.array([[1, 2, 3], [4, 5, 6]])"
   ]
  },
  {
   "cell_type": "code",
   "execution_count": 5,
   "id": "dc68847c",
   "metadata": {},
   "outputs": [
    {
     "data": {
      "text/plain": [
       "array([0, 2, 4, 6, 8])"
      ]
     },
     "execution_count": 5,
     "metadata": {},
     "output_type": "execute_result"
    }
   ],
   "source": [
    "# Rango de valores\n",
    "np.arange(0, 10, 2)"
   ]
  },
  {
   "cell_type": "code",
   "execution_count": 6,
   "id": "cc72e7a3",
   "metadata": {},
   "outputs": [
    {
     "data": {
      "text/plain": [
       "array([0.  , 0.25, 0.5 , 0.75, 1.  ])"
      ]
     },
     "execution_count": 6,
     "metadata": {},
     "output_type": "execute_result"
    }
   ],
   "source": [
    "# Números igualmente espaciados\n",
    "np.linspace(0, 1, 5)    # genera un array de 5 números igualmente espaciados entre 0 y 1 (incluyendo ambos extremos)."
   ]
  },
  {
   "cell_type": "code",
   "execution_count": 7,
   "id": "4ddeff5e",
   "metadata": {},
   "outputs": [
    {
     "data": {
      "text/plain": [
       "array([[0., 0., 0., 0.],\n",
       "       [0., 0., 0., 0.],\n",
       "       [0., 0., 0., 0.]])"
      ]
     },
     "execution_count": 7,
     "metadata": {},
     "output_type": "execute_result"
    }
   ],
   "source": [
    "# Matrices especiales\n",
    "np.zeros((3, 4))        # Matriz de ceros de 3 filas y 4 columnas"
   ]
  },
  {
   "cell_type": "code",
   "execution_count": 8,
   "id": "e4d18452",
   "metadata": {},
   "outputs": [
    {
     "data": {
      "text/plain": [
       "array([[1., 1., 1., 1., 1.],\n",
       "       [1., 1., 1., 1., 1.]])"
      ]
     },
     "execution_count": 8,
     "metadata": {},
     "output_type": "execute_result"
    }
   ],
   "source": [
    "np.ones((2, 5))         # Matriz de unos de 2 filas y 5 columnas"
   ]
  },
  {
   "cell_type": "code",
   "execution_count": 9,
   "id": "ad5a720c",
   "metadata": {},
   "outputs": [
    {
     "data": {
      "text/plain": [
       "array([[1., 0., 0., 0.],\n",
       "       [0., 1., 0., 0.],\n",
       "       [0., 0., 1., 0.],\n",
       "       [0., 0., 0., 1.]])"
      ]
     },
     "execution_count": 9,
     "metadata": {},
     "output_type": "execute_result"
    }
   ],
   "source": [
    "np.eye(4)            # Matriz identidad de 4x4"
   ]
  },
  {
   "cell_type": "code",
   "execution_count": 10,
   "id": "001d29b4",
   "metadata": {},
   "outputs": [
    {
     "data": {
      "text/plain": [
       "array([[0.94239785, 0.56427194],\n",
       "       [0.62516219, 0.86861068]])"
      ]
     },
     "execution_count": 10,
     "metadata": {},
     "output_type": "execute_result"
    }
   ],
   "source": [
    "np.random.rand(2, 2)     # Matriz 2x2 con valores aleatorios entre 0 y 1"
   ]
  },
  {
   "cell_type": "code",
   "execution_count": 11,
   "id": "2d841253",
   "metadata": {},
   "outputs": [
    {
     "data": {
      "text/plain": [
       "array([[2.35303979, 0.54686764],\n",
       "       [1.09585972, 1.41720339]])"
      ]
     },
     "execution_count": 11,
     "metadata": {},
     "output_type": "execute_result"
    }
   ],
   "source": [
    "np.random.randn(2, 2)   # Matriz 2x2 con valores aleatorios de una distribución normal (media 0, desviación estándar 1)\n",
    "# Se usa para simular datos con comportamiento normal (gaussiano)."
   ]
  },
  {
   "cell_type": "code",
   "execution_count": 12,
   "id": "437a2e6b",
   "metadata": {},
   "outputs": [
    {
     "data": {
      "text/plain": [
       "array([[1, 0, 9],\n",
       "       [4, 3, 3],\n",
       "       [5, 7, 5]])"
      ]
     },
     "execution_count": 12,
     "metadata": {},
     "output_type": "execute_result"
    }
   ],
   "source": [
    "np.random.randint(0, 10, (3, 3))  # Matriz 3x3 con enteros aleatorios entre 0 y 10"
   ]
  },
  {
   "cell_type": "code",
   "execution_count": 13,
   "id": "69b88719",
   "metadata": {},
   "outputs": [
    {
     "data": {
      "text/plain": [
       "array([8, 0, 6, 3, 1])"
      ]
     },
     "execution_count": 13,
     "metadata": {},
     "output_type": "execute_result"
    }
   ],
   "source": [
    "np.random.randint(0, 10, 5)  # Array de 5 enteros aleatorios entre 0 y 10"
   ]
  },
  {
   "cell_type": "markdown",
   "id": "633e49e2",
   "metadata": {},
   "source": [
    "### 2. Inspección"
   ]
  },
  {
   "cell_type": "code",
   "execution_count": 14,
   "id": "66b768f9",
   "metadata": {},
   "outputs": [],
   "source": [
    "a = np.array([[1,2,3],[4,5,6]])"
   ]
  },
  {
   "cell_type": "code",
   "execution_count": 15,
   "id": "7270da0d",
   "metadata": {},
   "outputs": [
    {
     "data": {
      "text/plain": [
       "(2, 3)"
      ]
     },
     "execution_count": 15,
     "metadata": {},
     "output_type": "execute_result"
    }
   ],
   "source": [
    "a.shape       # Dimensiones del array (filas, columnas)"
   ]
  },
  {
   "cell_type": "code",
   "execution_count": 16,
   "id": "b8628fce",
   "metadata": {},
   "outputs": [
    {
     "data": {
      "text/plain": [
       "2"
      ]
     },
     "execution_count": 16,
     "metadata": {},
     "output_type": "execute_result"
    }
   ],
   "source": [
    "a.ndim        # Número de dimensiones"
   ]
  },
  {
   "cell_type": "code",
   "execution_count": 17,
   "id": "b0811643",
   "metadata": {},
   "outputs": [
    {
     "data": {
      "text/plain": [
       "6"
      ]
     },
     "execution_count": 17,
     "metadata": {},
     "output_type": "execute_result"
    }
   ],
   "source": [
    "a.size        # Número total de elementos"
   ]
  },
  {
   "cell_type": "code",
   "execution_count": 18,
   "id": "5aeb9f6d",
   "metadata": {},
   "outputs": [
    {
     "data": {
      "text/plain": [
       "dtype('int64')"
      ]
     },
     "execution_count": 18,
     "metadata": {},
     "output_type": "execute_result"
    }
   ],
   "source": [
    "a.dtype       # Tipo de datos de los elementos"
   ]
  },
  {
   "cell_type": "markdown",
   "id": "97f9655f",
   "metadata": {},
   "source": [
    "### 3. Operaciones Básicas"
   ]
  },
  {
   "cell_type": "code",
   "execution_count": 19,
   "id": "c8907847",
   "metadata": {},
   "outputs": [],
   "source": [
    "x = np.array([1, 2, 3])\n",
    "y = np.array([10, 20, 30])"
   ]
  },
  {
   "cell_type": "code",
   "execution_count": 20,
   "id": "a17e28d6",
   "metadata": {},
   "outputs": [
    {
     "data": {
      "text/plain": [
       "array([11, 22, 33])"
      ]
     },
     "execution_count": 20,
     "metadata": {},
     "output_type": "execute_result"
    }
   ],
   "source": [
    "x + y       # Suma elemento a elemento"
   ]
  },
  {
   "cell_type": "code",
   "execution_count": 21,
   "id": "5e839ac8",
   "metadata": {},
   "outputs": [
    {
     "data": {
      "text/plain": [
       "array([ -9, -18, -27])"
      ]
     },
     "execution_count": 21,
     "metadata": {},
     "output_type": "execute_result"
    }
   ],
   "source": [
    "x - y       # Resta elemento a elemento"
   ]
  },
  {
   "cell_type": "code",
   "execution_count": 22,
   "id": "e5e72690",
   "metadata": {},
   "outputs": [
    {
     "data": {
      "text/plain": [
       "array([10, 40, 90])"
      ]
     },
     "execution_count": 22,
     "metadata": {},
     "output_type": "execute_result"
    }
   ],
   "source": [
    "x * y       # Multiplicación elemento a elemento"
   ]
  },
  {
   "cell_type": "code",
   "execution_count": 23,
   "id": "24220c8b",
   "metadata": {},
   "outputs": [
    {
     "data": {
      "text/plain": [
       "array([0.1, 0.1, 0.1])"
      ]
     },
     "execution_count": 23,
     "metadata": {},
     "output_type": "execute_result"
    }
   ],
   "source": [
    "x / y       # División elemento a elemento"
   ]
  },
  {
   "cell_type": "code",
   "execution_count": 24,
   "id": "a33bd156",
   "metadata": {},
   "outputs": [
    {
     "data": {
      "text/plain": [
       "array([              1,         1048576, 205891132094649])"
      ]
     },
     "execution_count": 24,
     "metadata": {},
     "output_type": "execute_result"
    }
   ],
   "source": [
    "x ** y      # Potenciación elemento a elemento"
   ]
  },
  {
   "cell_type": "markdown",
   "id": "fb615f4d",
   "metadata": {},
   "source": [
    "#### Operaciones escalares"
   ]
  },
  {
   "cell_type": "code",
   "execution_count": 25,
   "id": "8f822d0f",
   "metadata": {},
   "outputs": [
    {
     "data": {
      "text/plain": [
       "array([6, 7, 8])"
      ]
     },
     "execution_count": 25,
     "metadata": {},
     "output_type": "execute_result"
    }
   ],
   "source": [
    "x + 5"
   ]
  },
  {
   "cell_type": "code",
   "execution_count": 26,
   "id": "949dafd5",
   "metadata": {},
   "outputs": [
    {
     "data": {
      "text/plain": [
       "array([20, 40, 60])"
      ]
     },
     "execution_count": 26,
     "metadata": {},
     "output_type": "execute_result"
    }
   ],
   "source": [
    "y * 2"
   ]
  },
  {
   "cell_type": "markdown",
   "id": "e77b9929",
   "metadata": {},
   "source": [
    "### 4. Indexado y slicing"
   ]
  },
  {
   "cell_type": "markdown",
   "id": "d00a72fa",
   "metadata": {},
   "source": [
    "#### Arrays"
   ]
  },
  {
   "cell_type": "code",
   "execution_count": 27,
   "id": "19a76315",
   "metadata": {},
   "outputs": [],
   "source": [
    "a = np.array([10, 20, 30, 40, 50])"
   ]
  },
  {
   "cell_type": "code",
   "execution_count": 28,
   "id": "233d5f33",
   "metadata": {},
   "outputs": [
    {
     "data": {
      "text/plain": [
       "np.int64(10)"
      ]
     },
     "execution_count": 28,
     "metadata": {},
     "output_type": "execute_result"
    }
   ],
   "source": [
    "a[0]        # Primer elemento"
   ]
  },
  {
   "cell_type": "code",
   "execution_count": 29,
   "id": "2a19bf11",
   "metadata": {},
   "outputs": [
    {
     "data": {
      "text/plain": [
       "np.int64(50)"
      ]
     },
     "execution_count": 29,
     "metadata": {},
     "output_type": "execute_result"
    }
   ],
   "source": [
    "a[-1]       # Último elemento"
   ]
  },
  {
   "cell_type": "code",
   "execution_count": 30,
   "id": "a5c1ab76",
   "metadata": {},
   "outputs": [
    {
     "data": {
      "text/plain": [
       "array([20, 30, 40])"
      ]
     },
     "execution_count": 30,
     "metadata": {},
     "output_type": "execute_result"
    }
   ],
   "source": [
    "a[1:4]      # Elementos desde el índice 1 hasta el 3 (excluyendo el 4)"
   ]
  },
  {
   "cell_type": "code",
   "execution_count": 31,
   "id": "37057948",
   "metadata": {},
   "outputs": [
    {
     "data": {
      "text/plain": [
       "array([10, 30, 50])"
      ]
     },
     "execution_count": 31,
     "metadata": {},
     "output_type": "execute_result"
    }
   ],
   "source": [
    "a[::2]     # Elementos desde el inicio hasta el final, con paso 2"
   ]
  },
  {
   "cell_type": "markdown",
   "id": "e457a326",
   "metadata": {},
   "source": [
    "#### Matrices"
   ]
  },
  {
   "cell_type": "code",
   "execution_count": 32,
   "id": "d9546898",
   "metadata": {},
   "outputs": [],
   "source": [
    "b = np.array([[1, 2, 3], [4, 5, 6], [7, 8, 9]])"
   ]
  },
  {
   "cell_type": "code",
   "execution_count": 33,
   "id": "b6550af6",
   "metadata": {},
   "outputs": [
    {
     "data": {
      "text/plain": [
       "np.int64(3)"
      ]
     },
     "execution_count": 33,
     "metadata": {},
     "output_type": "execute_result"
    }
   ],
   "source": [
    "b[0, 2]      # Elemento en la primera fila, tercera columna"
   ]
  },
  {
   "cell_type": "code",
   "execution_count": 34,
   "id": "a75c5201",
   "metadata": {},
   "outputs": [
    {
     "data": {
      "text/plain": [
       "array([4, 5, 6])"
      ]
     },
     "execution_count": 34,
     "metadata": {},
     "output_type": "execute_result"
    }
   ],
   "source": [
    "b[1, :]      # Todos los elementos de la segunda fila"
   ]
  },
  {
   "cell_type": "code",
   "execution_count": 35,
   "id": "8ce79e17",
   "metadata": {},
   "outputs": [
    {
     "data": {
      "text/plain": [
       "array([2, 5, 8])"
      ]
     },
     "execution_count": 35,
     "metadata": {},
     "output_type": "execute_result"
    }
   ],
   "source": [
    "b[:, 1]      # Todos los elementos de la segunda columna"
   ]
  },
  {
   "cell_type": "markdown",
   "id": "3770338c",
   "metadata": {},
   "source": [
    "### 5. Funciones estadísticas"
   ]
  },
  {
   "cell_type": "code",
   "execution_count": 36,
   "id": "2a4cdcbe",
   "metadata": {},
   "outputs": [],
   "source": [
    "data = np.array([1, 2, 3, 4, 5])"
   ]
  },
  {
   "cell_type": "code",
   "execution_count": 37,
   "id": "aca5e524",
   "metadata": {},
   "outputs": [
    {
     "data": {
      "text/plain": [
       "np.float64(3.0)"
      ]
     },
     "execution_count": 37,
     "metadata": {},
     "output_type": "execute_result"
    }
   ],
   "source": [
    "np.mean(data)      # Media"
   ]
  },
  {
   "cell_type": "code",
   "execution_count": 38,
   "id": "edbe241b",
   "metadata": {},
   "outputs": [
    {
     "data": {
      "text/plain": [
       "np.float64(3.0)"
      ]
     },
     "execution_count": 38,
     "metadata": {},
     "output_type": "execute_result"
    }
   ],
   "source": [
    "np.median(data)    # Mediana"
   ]
  },
  {
   "cell_type": "code",
   "execution_count": 39,
   "id": "c4a42ac9",
   "metadata": {},
   "outputs": [
    {
     "data": {
      "text/plain": [
       "np.float64(1.4142135623730951)"
      ]
     },
     "execution_count": 39,
     "metadata": {},
     "output_type": "execute_result"
    }
   ],
   "source": [
    "np.std(data)       # Desviación estándar"
   ]
  },
  {
   "cell_type": "code",
   "execution_count": 40,
   "id": "e1d976b6",
   "metadata": {},
   "outputs": [
    {
     "data": {
      "text/plain": [
       "np.float64(2.0)"
      ]
     },
     "execution_count": 40,
     "metadata": {},
     "output_type": "execute_result"
    }
   ],
   "source": [
    "np.var(data)       # Varianza"
   ]
  },
  {
   "cell_type": "code",
   "execution_count": 41,
   "id": "48cdd482",
   "metadata": {},
   "outputs": [
    {
     "data": {
      "text/plain": [
       "np.int64(1)"
      ]
     },
     "execution_count": 41,
     "metadata": {},
     "output_type": "execute_result"
    }
   ],
   "source": [
    "np.min(data)       # Valor mínimo"
   ]
  },
  {
   "cell_type": "code",
   "execution_count": 42,
   "id": "7a370364",
   "metadata": {},
   "outputs": [
    {
     "data": {
      "text/plain": [
       "np.int64(5)"
      ]
     },
     "execution_count": 42,
     "metadata": {},
     "output_type": "execute_result"
    }
   ],
   "source": [
    "np.max(data)       # Valor máximo"
   ]
  },
  {
   "cell_type": "code",
   "execution_count": 43,
   "id": "975c0220",
   "metadata": {},
   "outputs": [
    {
     "data": {
      "text/plain": [
       "np.int64(15)"
      ]
     },
     "execution_count": 43,
     "metadata": {},
     "output_type": "execute_result"
    }
   ],
   "source": [
    "np.sum(data)       # Suma de todos los elementos"
   ]
  },
  {
   "cell_type": "code",
   "execution_count": 44,
   "id": "ff2e12ad",
   "metadata": {},
   "outputs": [
    {
     "data": {
      "text/plain": [
       "array([ 1,  3,  6, 10, 15])"
      ]
     },
     "execution_count": 44,
     "metadata": {},
     "output_type": "execute_result"
    }
   ],
   "source": [
    "np.cumsum(data)    # Suma acumulativa"
   ]
  },
  {
   "cell_type": "markdown",
   "id": "cc28e0cf",
   "metadata": {},
   "source": [
    "### 6. Álgebra lineal"
   ]
  },
  {
   "cell_type": "code",
   "execution_count": 45,
   "id": "880d9e4f",
   "metadata": {},
   "outputs": [],
   "source": [
    "A = np.array([[1, 2], [3, 4]])\n",
    "B = np.array([[5, 6], [7, 8]])"
   ]
  },
  {
   "cell_type": "code",
   "execution_count": null,
   "id": "8520c624",
   "metadata": {},
   "outputs": [
    {
     "data": {
      "text/plain": [
       "array([[19, 22],\n",
       "       [43, 50]])"
      ]
     },
     "execution_count": 46,
     "metadata": {},
     "output_type": "execute_result"
    }
   ],
   "source": [
    "np.dot(A, B)   # Producto matricial de A y B\n",
    "\n",
    "A @ B          # Producto matricial de A y B (otra sintaxis)"
   ]
  },
  {
   "cell_type": "code",
   "execution_count": 47,
   "id": "20eea6ba",
   "metadata": {},
   "outputs": [
    {
     "data": {
      "text/plain": [
       "array([[1, 3],\n",
       "       [2, 4]])"
      ]
     },
     "execution_count": 47,
     "metadata": {},
     "output_type": "execute_result"
    }
   ],
   "source": [
    "np.transpose(A)  # Transpuesta de A"
   ]
  },
  {
   "cell_type": "code",
   "execution_count": 48,
   "id": "17f8a012",
   "metadata": {},
   "outputs": [
    {
     "data": {
      "text/plain": [
       "array([[-2. ,  1. ],\n",
       "       [ 1.5, -0.5]])"
      ]
     },
     "execution_count": 48,
     "metadata": {},
     "output_type": "execute_result"
    }
   ],
   "source": [
    "np.linalg.inv(A)  # Inversa de A (si es invertible)"
   ]
  },
  {
   "cell_type": "code",
   "execution_count": 49,
   "id": "bf22c0ed",
   "metadata": {},
   "outputs": [
    {
     "data": {
      "text/plain": [
       "np.float64(-2.0000000000000004)"
      ]
     },
     "execution_count": 49,
     "metadata": {},
     "output_type": "execute_result"
    }
   ],
   "source": [
    "np.linalg.det(A)  # Determinante de A"
   ]
  },
  {
   "cell_type": "code",
   "execution_count": 50,
   "id": "7946d46e",
   "metadata": {},
   "outputs": [
    {
     "data": {
      "text/plain": [
       "EigResult(eigenvalues=array([-0.37228132,  5.37228132]), eigenvectors=array([[-0.82456484, -0.41597356],\n",
       "       [ 0.56576746, -0.90937671]]))"
      ]
     },
     "execution_count": 50,
     "metadata": {},
     "output_type": "execute_result"
    }
   ],
   "source": [
    "np.linalg.eig(A)  # Valores y vectores propios de A"
   ]
  },
  {
   "cell_type": "markdown",
   "id": "49d97446",
   "metadata": {},
   "source": [
    "### 7. Reshape y manipulación"
   ]
  },
  {
   "cell_type": "code",
   "execution_count": 53,
   "id": "eac29e9c",
   "metadata": {},
   "outputs": [
    {
     "data": {
      "text/plain": [
       "array([0, 1, 2, 3, 4, 5])"
      ]
     },
     "execution_count": 53,
     "metadata": {},
     "output_type": "execute_result"
    }
   ],
   "source": [
    "a = np.arange(6)  # Array con valores del 0 al 5\n",
    "a"
   ]
  },
  {
   "cell_type": "code",
   "execution_count": 54,
   "id": "016b0eec",
   "metadata": {},
   "outputs": [
    {
     "data": {
      "text/plain": [
       "array([[0, 1, 2],\n",
       "       [3, 4, 5]])"
      ]
     },
     "execution_count": 54,
     "metadata": {},
     "output_type": "execute_result"
    }
   ],
   "source": [
    "a.reshape((2, 3))  # Cambia la forma a 2 filas y 3 columnas"
   ]
  },
  {
   "cell_type": "code",
   "execution_count": 61,
   "id": "64d915ab",
   "metadata": {},
   "outputs": [
    {
     "data": {
      "text/plain": [
       "array([[0, 1],\n",
       "       [2, 3],\n",
       "       [4, 5]])"
      ]
     },
     "execution_count": 61,
     "metadata": {},
     "output_type": "execute_result"
    }
   ],
   "source": [
    "a.reshape((-1, 2))  # Cambia la forma a 2 columnas, infiere el número de filas"
   ]
  },
  {
   "cell_type": "code",
   "execution_count": 60,
   "id": "19107e3a",
   "metadata": {},
   "outputs": [
    {
     "data": {
      "text/plain": [
       "array([0, 1, 2, 3, 4, 5])"
      ]
     },
     "execution_count": 60,
     "metadata": {},
     "output_type": "execute_result"
    }
   ],
   "source": [
    "a.flatten()  # Aplana el array a 1D"
   ]
  },
  {
   "cell_type": "code",
   "execution_count": 62,
   "id": "8ab2ca63",
   "metadata": {},
   "outputs": [],
   "source": [
    "x = np.array([1, 2, 3])\n",
    "y = np.array([4, 5, 6])"
   ]
  },
  {
   "cell_type": "code",
   "execution_count": 63,
   "id": "c267c4ec",
   "metadata": {},
   "outputs": [
    {
     "data": {
      "text/plain": [
       "array([1, 2, 3, 4, 5, 6])"
      ]
     },
     "execution_count": 63,
     "metadata": {},
     "output_type": "execute_result"
    }
   ],
   "source": [
    "np.concatenate((x, y))  # Concatena x e y"
   ]
  },
  {
   "cell_type": "markdown",
   "id": "ea760b00",
   "metadata": {},
   "source": [
    "### 8. Condiciones y máscaras"
   ]
  },
  {
   "cell_type": "code",
   "execution_count": 64,
   "id": "991c6aac",
   "metadata": {},
   "outputs": [],
   "source": [
    "arr = np.array([1, 2, 3, 4, 5, 6, 7, 8, 9, 10])"
   ]
  },
  {
   "cell_type": "code",
   "execution_count": 65,
   "id": "9afb5438",
   "metadata": {},
   "outputs": [
    {
     "data": {
      "text/plain": [
       "array([False, False, False,  True,  True,  True,  True,  True,  True,\n",
       "        True])"
      ]
     },
     "execution_count": 65,
     "metadata": {},
     "output_type": "execute_result"
    }
   ],
   "source": [
    "arr > 3  # Devuelve un array booleano indicando dónde se cumple la condición"
   ]
  },
  {
   "cell_type": "code",
   "execution_count": 66,
   "id": "06f3fd74",
   "metadata": {},
   "outputs": [
    {
     "data": {
      "text/plain": [
       "array([ 4,  5,  6,  7,  8,  9, 10])"
      ]
     },
     "execution_count": 66,
     "metadata": {},
     "output_type": "execute_result"
    }
   ],
   "source": [
    "arr[arr > 3]  # Filtra los elementos que cumplen la condición"
   ]
  },
  {
   "cell_type": "code",
   "execution_count": 72,
   "id": "573f6734",
   "metadata": {},
   "outputs": [
    {
     "data": {
      "text/plain": [
       "array([0, 0, 0, 1, 1, 1, 1, 1, 1, 1])"
      ]
     },
     "execution_count": 72,
     "metadata": {},
     "output_type": "execute_result"
    }
   ],
   "source": [
    "np.where(arr > 3, 1, 0)  # Devuelve los índices donde se cumple la condición"
   ]
  },
  {
   "cell_type": "markdown",
   "id": "363b52a7",
   "metadata": {},
   "source": [
    "## Pandas"
   ]
  },
  {
   "cell_type": "markdown",
   "id": "ce7bbb30",
   "metadata": {},
   "source": [
    "## Scikit-learn"
   ]
  },
  {
   "cell_type": "code",
   "execution_count": null,
   "id": "05983385",
   "metadata": {},
   "outputs": [],
   "source": []
  },
  {
   "cell_type": "code",
   "execution_count": null,
   "id": "b52195ed",
   "metadata": {},
   "outputs": [],
   "source": []
  }
 ],
 "metadata": {
  "kernelspec": {
   "display_name": "ml-youtube",
   "language": "python",
   "name": "python3"
  },
  "language_info": {
   "codemirror_mode": {
    "name": "ipython",
    "version": 3
   },
   "file_extension": ".py",
   "mimetype": "text/x-python",
   "name": "python",
   "nbconvert_exporter": "python",
   "pygments_lexer": "ipython3",
   "version": "3.12.1"
  }
 },
 "nbformat": 4,
 "nbformat_minor": 5
}
